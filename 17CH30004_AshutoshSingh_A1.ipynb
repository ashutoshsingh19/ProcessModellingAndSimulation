{
  "nbformat": 4,
  "nbformat_minor": 0,
  "metadata": {
    "colab": {
      "name": "PMS_A1_17CH30004.ipynb",
      "provenance": [],
      "toc_visible": true
    },
    "kernelspec": {
      "name": "python3",
      "display_name": "Python 3"
    }
  },
  "cells": [
    {
      "cell_type": "markdown",
      "metadata": {
        "id": "EU3d19O4jUKO"
      },
      "source": [
        "# **Imports**"
      ]
    },
    {
      "cell_type": "code",
      "metadata": {
        "id": "n4sjtjF7Kcrw",
        "outputId": "491b9417-bba5-4217-879e-fa448dec7fb3",
        "colab": {
          "base_uri": "https://localhost:8080/"
        }
      },
      "source": [
        "import numpy as np\n",
        "import pandas as pd\n",
        "import seaborn as sns\n",
        "from numpy import linalg\n",
        "import statsmodels.api as sm\n",
        "import matplotlib.pyplot as plt\n",
        "from sklearn.decomposition import PCA\n",
        "from sklearn.preprocessing import StandardScaler\n",
        "%matplotlib inline"
      ],
      "execution_count": 1,
      "outputs": [
        {
          "output_type": "stream",
          "text": [
            "/usr/local/lib/python3.6/dist-packages/statsmodels/tools/_testing.py:19: FutureWarning: pandas.util.testing is deprecated. Use the functions in the public API at pandas.testing instead.\n",
            "  import pandas.util.testing as tm\n"
          ],
          "name": "stderr"
        }
      ]
    },
    {
      "cell_type": "markdown",
      "metadata": {
        "id": "rsRCQDSOMvS5"
      },
      "source": [
        "# **Question 1**"
      ]
    },
    {
      "cell_type": "markdown",
      "metadata": {
        "id": "FlwUr-O8jRkJ"
      },
      "source": [
        "![image.png](data:image/png;base64,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)"
      ]
    },
    {
      "cell_type": "code",
      "metadata": {
        "id": "SqSNcQXoKpqp",
        "outputId": "b45a8dee-9c5f-4691-9c08-974d267dff5b",
        "colab": {
          "base_uri": "https://localhost:8080/"
        }
      },
      "source": [
        "a = np.array([4025, 4075, 4125, 4175, 4225, 4275, 4325, 4375 ])\n",
        "b = np.array([4, 19, 14, 5, 4, 1, 2, 1])\n",
        "sum_ =  np.array(b).sum()\n",
        "\n",
        "mean = 0\n",
        "for w, v in zip(b, a):\n",
        "  mean += w*v/sum_ #using mean = sum(fi*xi)/sum(fi)\n",
        "print(\"Sample Mean: \", mean)\n",
        "\n",
        "#Sample Estimate\n",
        "var_sample = 0\n",
        "for vals, weis in zip(a, b): #using variance = sum{fi*[(xi-mean)^2]}/(n-1)\n",
        "   var_sample += (weis/(sum_-1))*((vals-mean)**2)\n",
        "print(\"Sample Standard Deviation: \", np.sqrt(var_sample)) #using std. dev = sqrt(variance)\n",
        "\n",
        "#Estimating by assuming it as population\n",
        "var_pop = np.average((a - mean)**2, weights=b) #using variance = sum{fi*[(xi-mean)^2]}/n\n",
        "print(\"\\nIf this distribution itself is taken to be the population:\\nStandard Deviation (Population): \", np.sqrt(var_pop)) #using std. dev = sqrt(variance)"
      ],
      "execution_count": null,
      "outputs": [
        {
          "output_type": "stream",
          "text": [
            "Sample Mean:  4127.0\n",
            "Sample Standard Deviation:  78.86956423909864\n",
            "\n",
            "If this distribution itself is taken to be the population:\n",
            "Standard Deviation (Population):  78.07688518377255\n"
          ],
          "name": "stdout"
        }
      ]
    },
    {
      "cell_type": "markdown",
      "metadata": {
        "id": "v-QnWZZFSN8t"
      },
      "source": [
        "#**Question 2**"
      ]
    },
    {
      "cell_type": "code",
      "metadata": {
        "id": "X-umJKThSQLU",
        "outputId": "35bec4ef-c768-4fcf-ade5-087ccd71b772",
        "colab": {
          "base_uri": "https://localhost:8080/",
          "height": 206
        }
      },
      "source": [
        "ammonia = pd.read_csv('/content/ammonia.csv')\n",
        "ammonia.head()"
      ],
      "execution_count": null,
      "outputs": [
        {
          "output_type": "execute_result",
          "data": {
            "text/html": [
              "<div>\n",
              "<style scoped>\n",
              "    .dataframe tbody tr th:only-of-type {\n",
              "        vertical-align: middle;\n",
              "    }\n",
              "\n",
              "    .dataframe tbody tr th {\n",
              "        vertical-align: top;\n",
              "    }\n",
              "\n",
              "    .dataframe thead th {\n",
              "        text-align: right;\n",
              "    }\n",
              "</style>\n",
              "<table border=\"1\" class=\"dataframe\">\n",
              "  <thead>\n",
              "    <tr style=\"text-align: right;\">\n",
              "      <th></th>\n",
              "      <th>Ammonia</th>\n",
              "    </tr>\n",
              "  </thead>\n",
              "  <tbody>\n",
              "    <tr>\n",
              "      <th>0</th>\n",
              "      <td>35.00</td>\n",
              "    </tr>\n",
              "    <tr>\n",
              "      <th>1</th>\n",
              "      <td>40.66</td>\n",
              "    </tr>\n",
              "    <tr>\n",
              "      <th>2</th>\n",
              "      <td>41.05</td>\n",
              "    </tr>\n",
              "    <tr>\n",
              "      <th>3</th>\n",
              "      <td>32.29</td>\n",
              "    </tr>\n",
              "    <tr>\n",
              "      <th>4</th>\n",
              "      <td>35.59</td>\n",
              "    </tr>\n",
              "  </tbody>\n",
              "</table>\n",
              "</div>"
            ],
            "text/plain": [
              "   Ammonia\n",
              "0    35.00\n",
              "1    40.66\n",
              "2    41.05\n",
              "3    32.29\n",
              "4    35.59"
            ]
          },
          "metadata": {
            "tags": []
          },
          "execution_count": 80
        }
      ]
    },
    {
      "cell_type": "markdown",
      "metadata": {
        "id": "Pk4qjpDxVoho"
      },
      "source": [
        "**Part (a)**"
      ]
    },
    {
      "cell_type": "markdown",
      "metadata": {
        "id": "sgIarUFr2RBL"
      },
      "source": [
        "Separate plots for the normal distribution curve and the histogram.\n",
        "\n",
        "In the normal density plot, the density of distribution has been plotted on the y axis rather than just frequencies."
      ]
    },
    {
      "cell_type": "code",
      "metadata": {
        "id": "ugdcALvcTwFE",
        "outputId": "a804f795-a8d5-46a2-d2b8-ab2fc5b2ef31",
        "colab": {
          "base_uri": "https://localhost:8080/",
          "height": 739
        }
      },
      "source": [
        "sns.displot(ammonia, kind=\"kde\") #For Distribution\n",
        "sns.displot(ammonia) #For Histogram"
      ],
      "execution_count": null,
      "outputs": [
        {
          "output_type": "execute_result",
          "data": {
            "text/plain": [
              "<seaborn.axisgrid.FacetGrid at 0x7fbd29ba66a0>"
            ]
          },
          "metadata": {
            "tags": []
          },
          "execution_count": 81
        },
        {
          "output_type": "display_data",
          "data": {
            "image/png": "[encoded data removed]",
            "text/plain": [
              "<Figure size 443.5x360 with 1 Axes>"
            ]
          },
          "metadata": {
            "tags": [],
            "needs_background": "light"
          }
        },
        {
          "output_type": "display_data",
          "data": {
            "image/png": "[encoded data removed]",
            "text/plain": [
              "<Figure size 443.5x360 with 1 Axes>"
            ]
          },
          "metadata": {
            "tags": [],
            "needs_background": "light"
          }
        }
      ]
    },
    {
      "cell_type": "markdown",
      "metadata": {
        "id": "UHS-BGwy2zOR"
      },
      "source": [
        "Combining these two, and using the density on the y-axis (normalized frequency)"
      ]
    },
    {
      "cell_type": "code",
      "metadata": {
        "id": "vlgZ0l3ASdGD",
        "outputId": "329c8760-7472-4295-a5a9-c99ffac6e41a",
        "colab": {
          "base_uri": "https://localhost:8080/",
          "height": 340
        }
      },
      "source": [
        "sns.distplot(ammonia)"
      ],
      "execution_count": null,
      "outputs": [
        {
          "output_type": "stream",
          "text": [
            "/usr/local/lib/python3.6/dist-packages/seaborn/distributions.py:2551: FutureWarning: `distplot` is a deprecated function and will be removed in a future version. Please adapt your code to use either `displot` (a figure-level function with similar flexibility) or `histplot` (an axes-level function for histograms).\n",
            "  warnings.warn(msg, FutureWarning)\n"
          ],
          "name": "stderr"
        },
        {
          "output_type": "execute_result",
          "data": {
            "text/plain": [
              "<matplotlib.axes._subplots.AxesSubplot at 0x7fbd29a88b70>"
            ]
          },
          "metadata": {
            "tags": []
          },
          "execution_count": 82
        },
        {
          "output_type": "display_data",
          "data": {
            "image/png": "[encoded data removed]",
            "text/plain": [
              "<Figure size 432x288 with 1 Axes>"
            ]
          },
          "metadata": {
            "tags": [],
            "needs_background": "light"
          }
        }
      ]
    },
    {
      "cell_type": "markdown",
      "metadata": {
        "id": "us3ygakrVuDf"
      },
      "source": [
        "**Part (b)**"
      ]
    },
    {
      "cell_type": "code",
      "metadata": {
        "id": "t8ooow9zS7Bh",
        "outputId": "f5fcbb52-a0e5-43c7-b86e-1dda8abd294c",
        "colab": {
          "base_uri": "https://localhost:8080/",
          "height": 300
        }
      },
      "source": [
        "ammonia.describe() # A quick description of the 1D dataset "
      ],
      "execution_count": null,
      "outputs": [
        {
          "output_type": "execute_result",
          "data": {
            "text/html": [
              "<div>\n",
              "<style scoped>\n",
              "    .dataframe tbody tr th:only-of-type {\n",
              "        vertical-align: middle;\n",
              "    }\n",
              "\n",
              "    .dataframe tbody tr th {\n",
              "        vertical-align: top;\n",
              "    }\n",
              "\n",
              "    .dataframe thead th {\n",
              "        text-align: right;\n",
              "    }\n",
              "</style>\n",
              "<table border=\"1\" class=\"dataframe\">\n",
              "  <thead>\n",
              "    <tr style=\"text-align: right;\">\n",
              "      <th></th>\n",
              "      <th>Ammonia</th>\n",
              "    </tr>\n",
              "  </thead>\n",
              "  <tbody>\n",
              "    <tr>\n",
              "      <th>count</th>\n",
              "      <td>1440.000000</td>\n",
              "    </tr>\n",
              "    <tr>\n",
              "      <th>mean</th>\n",
              "      <td>36.094993</td>\n",
              "    </tr>\n",
              "    <tr>\n",
              "      <th>std</th>\n",
              "      <td>8.518928</td>\n",
              "    </tr>\n",
              "    <tr>\n",
              "      <th>min</th>\n",
              "      <td>9.990000</td>\n",
              "    </tr>\n",
              "    <tr>\n",
              "      <th>25%</th>\n",
              "      <td>30.225000</td>\n",
              "    </tr>\n",
              "    <tr>\n",
              "      <th>50%</th>\n",
              "      <td>36.180000</td>\n",
              "    </tr>\n",
              "    <tr>\n",
              "      <th>75%</th>\n",
              "      <td>42.370000</td>\n",
              "    </tr>\n",
              "    <tr>\n",
              "      <th>max</th>\n",
              "      <td>58.740000</td>\n",
              "    </tr>\n",
              "  </tbody>\n",
              "</table>\n",
              "</div>"
            ],
            "text/plain": [
              "           Ammonia\n",
              "count  1440.000000\n",
              "mean     36.094993\n",
              "std       8.518928\n",
              "min       9.990000\n",
              "25%      30.225000\n",
              "50%      36.180000\n",
              "75%      42.370000\n",
              "max      58.740000"
            ]
          },
          "metadata": {
            "tags": []
          },
          "execution_count": 155
        }
      ]
    },
    {
      "cell_type": "markdown",
      "metadata": {
        "id": "92tf8IBc5AFQ"
      },
      "source": [
        "The above part describes the spread of the distribution with the mean = 36.095 and a standard deviation = 8.51. The min and max values as can be seen are 9.99 and 58.74 respectively. From the plot, it can be said that the distribution is not skewed and hence the mean and standard deviation are enough to describe the distribution and its spread."
      ]
    },
    {
      "cell_type": "markdown",
      "metadata": {
        "id": "l4itUNJEV0py"
      },
      "source": [
        "# **Question 3**"
      ]
    },
    {
      "cell_type": "code",
      "metadata": {
        "id": "EGeHFXvcVkEm",
        "outputId": "4eb1229b-1587-4a3e-ab18-7fb2d1ee0f00",
        "colab": {
          "base_uri": "https://localhost:8080/",
          "height": 206
        }
      },
      "source": [
        "co2 = pd.read_csv('/content/gas-furnace.csv')\n",
        "co2.head()"
      ],
      "execution_count": null,
      "outputs": [
        {
          "output_type": "execute_result",
          "data": {
            "text/html": [
              "<div>\n",
              "<style scoped>\n",
              "    .dataframe tbody tr th:only-of-type {\n",
              "        vertical-align: middle;\n",
              "    }\n",
              "\n",
              "    .dataframe tbody tr th {\n",
              "        vertical-align: top;\n",
              "    }\n",
              "\n",
              "    .dataframe thead th {\n",
              "        text-align: right;\n",
              "    }\n",
              "</style>\n",
              "<table border=\"1\" class=\"dataframe\">\n",
              "  <thead>\n",
              "    <tr style=\"text-align: right;\">\n",
              "      <th></th>\n",
              "      <th>InputGasRate</th>\n",
              "      <th>CO2</th>\n",
              "    </tr>\n",
              "  </thead>\n",
              "  <tbody>\n",
              "    <tr>\n",
              "      <th>0</th>\n",
              "      <td>-0.109</td>\n",
              "      <td>53.8</td>\n",
              "    </tr>\n",
              "    <tr>\n",
              "      <th>1</th>\n",
              "      <td>0.000</td>\n",
              "      <td>53.6</td>\n",
              "    </tr>\n",
              "    <tr>\n",
              "      <th>2</th>\n",
              "      <td>0.178</td>\n",
              "      <td>53.5</td>\n",
              "    </tr>\n",
              "    <tr>\n",
              "      <th>3</th>\n",
              "      <td>0.339</td>\n",
              "      <td>53.5</td>\n",
              "    </tr>\n",
              "    <tr>\n",
              "      <th>4</th>\n",
              "      <td>0.373</td>\n",
              "      <td>53.4</td>\n",
              "    </tr>\n",
              "  </tbody>\n",
              "</table>\n",
              "</div>"
            ],
            "text/plain": [
              "   InputGasRate   CO2\n",
              "0        -0.109  53.8\n",
              "1         0.000  53.6\n",
              "2         0.178  53.5\n",
              "3         0.339  53.5\n",
              "4         0.373  53.4"
            ]
          },
          "metadata": {
            "tags": []
          },
          "execution_count": 84
        }
      ]
    },
    {
      "cell_type": "markdown",
      "metadata": {
        "id": "2c1PU4l3fgK-"
      },
      "source": [
        "**Part (a)**"
      ]
    },
    {
      "cell_type": "code",
      "metadata": {
        "id": "FTJwcZI8Z2PN",
        "outputId": "e0226a01-52a8-45a9-b043-fbf33df47748",
        "colab": {
          "base_uri": "https://localhost:8080/",
          "height": 545
        }
      },
      "source": [
        "sns.lmplot(x='InputGasRate', y='CO2', data=co2, order=4, height=7, aspect=1.6) # Fitting a 4th order curve over the scatter data along with the spread to observe relationship"
      ],
      "execution_count": null,
      "outputs": [
        {
          "output_type": "execute_result",
          "data": {
            "text/plain": [
              "<seaborn.axisgrid.FacetGrid at 0x7fbd299e5e80>"
            ]
          },
          "metadata": {
            "tags": []
          },
          "execution_count": 85
        },
        {
          "output_type": "display_data",
          "data": {
            "image/png": "[encoded data removed]",
            "text/plain": [
              "<Figure size 806.4x504 with 1 Axes>"
            ]
          },
          "metadata": {
            "tags": [],
            "needs_background": "light"
          }
        }
      ]
    },
    {
      "cell_type": "markdown",
      "metadata": {
        "id": "Al8ElUxf5lcd"
      },
      "source": [
        "From the scatter plot and the fitted 4th order polynomial and also measuring the spread or variance along that fit, it can be said that CO2 measurement decreases with the increase in input gas flow rate."
      ]
    },
    {
      "cell_type": "markdown",
      "metadata": {
        "id": "r0bhAlRNgxt6"
      },
      "source": [
        "**Part (b)**"
      ]
    },
    {
      "cell_type": "code",
      "metadata": {
        "id": "Zrw77z5kaHEa",
        "outputId": "c37704df-5007-4e0e-d4e3-b9545cb35c82",
        "colab": {
          "base_uri": "https://localhost:8080/",
          "height": 509
        }
      },
      "source": [
        "fig, ax = plt.subplots(figsize=[10,5]) \n",
        "sns.heatmap(co2.corr(), square=True, ax=ax)\n",
        "print(\"Correlation Value: {} \\n\".format(co2.corr()['InputGasRate'][1]))\n",
        "\n",
        "print(\"Variance: \")\n",
        "print(\"For Gas Rate: \",co2.InputGasRate.var())\n",
        "print(\"For CO2: \",co2.CO2.var())\n",
        "print(\"\\n\")\n",
        "cov_mat = co2.cov()\n",
        "print(\"Covariance: \", cov_mat['InputGasRate'][1])\n",
        "print(\"\\n\")"
      ],
      "execution_count": null,
      "outputs": [
        {
          "output_type": "stream",
          "text": [
            "Correlation Value: -0.48445071710938603 \n",
            "\n",
            "Variance: \n",
            "For Gas Rate:  1.1508258267407232\n",
            "For CO2:  10.253577530920744\n",
            "\n",
            "\n",
            "Covariance:  -1.6641486337608786\n",
            "\n",
            "\n"
          ],
          "name": "stdout"
        },
        {
          "output_type": "display_data",
          "data": {
            "image/png": "[encoded data removed]",
            "text/plain": [
              "<Figure size 720x360 with 2 Axes>"
            ]
          },
          "metadata": {
            "tags": [],
            "needs_background": "light"
          }
        }
      ]
    },
    {
      "cell_type": "markdown",
      "metadata": {
        "id": "0joFA4g16Xl7"
      },
      "source": [
        "It gives a correlation value of -0.48 and can be considered as a mild to reasonably strong correlation between the input gas flow rate and the CO2 measurement, supporting the inference from the scatter plot."
      ]
    },
    {
      "cell_type": "markdown",
      "metadata": {
        "id": "lhWMdmJ4jBUt"
      },
      "source": [
        "**Part (c)**"
      ]
    },
    {
      "cell_type": "code",
      "metadata": {
        "id": "c8T9XtosczCE",
        "outputId": "cbc2fad0-be1a-489c-b347-6963919c6c78",
        "colab": {
          "base_uri": "https://localhost:8080/"
        }
      },
      "source": [
        "Y = co2['CO2']\n",
        "X = co2['InputGasRate']\n",
        "X = sm.add_constant(X) #Adds a constant term for intercept\n",
        "\n",
        "model = sm.OLS(Y,X) #Simple OLS model\n",
        "results = model.fit() #Fitting the model over the data\n",
        "print(results.summary())"
      ],
      "execution_count": null,
      "outputs": [
        {
          "output_type": "stream",
          "text": [
            "                            OLS Regression Results                            \n",
            "==============================================================================\n",
            "Dep. Variable:                    CO2   R-squared:                       0.235\n",
            "Model:                            OLS   Adj. R-squared:                  0.232\n",
            "Method:                 Least Squares   F-statistic:                     90.16\n",
            "Date:                Thu, 12 Nov 2020   Prob (F-statistic):           7.97e-19\n",
            "Time:                        10:29:50   Log-Likelihood:                -724.41\n",
            "No. Observations:                 296   AIC:                             1453.\n",
            "Df Residuals:                     294   BIC:                             1460.\n",
            "Df Model:                           1                                         \n",
            "Covariance Type:            nonrobust                                         \n",
            "================================================================================\n",
            "                   coef    std err          t      P>|t|      [0.025      0.975]\n",
            "--------------------------------------------------------------------------------\n",
            "const           53.4269      0.163    327.116      0.000      53.105      53.748\n",
            "InputGasRate    -1.4460      0.152     -9.495      0.000      -1.746      -1.146\n",
            "==============================================================================\n",
            "Omnibus:                       10.852   Durbin-Watson:                   0.130\n",
            "Prob(Omnibus):                  0.004   Jarque-Bera (JB):                5.301\n",
            "Skew:                          -0.033   Prob(JB):                       0.0706\n",
            "Kurtosis:                       2.348   Cond. No.                         1.09\n",
            "==============================================================================\n",
            "\n",
            "Warnings:\n",
            "[1] Standard Errors assume that the covariance matrix of the errors is correctly specified.\n"
          ],
          "name": "stdout"
        }
      ]
    },
    {
      "cell_type": "markdown",
      "metadata": {
        "id": "u56yuXX56zoT"
      },
      "source": [
        "Linear Model: \n",
        "\n",
        "Y: CO2 Measurement\n",
        "\n",
        "X: Input Gas Flow Rate\n",
        "> **Y = 53.427 - 1.446 * X**\n",
        "\n",
        "\n",
        "\n",
        "\n"
      ]
    },
    {
      "cell_type": "markdown",
      "metadata": {
        "id": "6mmjTKIojHil"
      },
      "source": [
        "# **Question 4**"
      ]
    },
    {
      "cell_type": "markdown",
      "metadata": {
        "id": "dZ7MStt1uP_t"
      },
      "source": [
        "**Part (c)** - Interaction Plots"
      ]
    },
    {
      "cell_type": "code",
      "metadata": {
        "id": "vGPpxay4b2qr",
        "outputId": "806c47c1-fa7b-4861-d929-1c3eace0f6ef",
        "colab": {
          "base_uri": "https://localhost:8080/",
          "height": 381
        }
      },
      "source": [
        "f, ax = plt.subplots(nrows=1,ncols=2, figsize=[20,5])\n",
        "f.suptitle(\"Effect on Sales\", fontsize=20)\n",
        "plt.sca(ax[0]); #Setting current axes to 0 (for the left subplot)\n",
        "plt.plot([-1,1],[350000,361000])\n",
        "plt.plot([-1,1],[312000,250500])\n",
        "plt.legend([\"Profile Not Required\", \"Profile Required\"])\n",
        "plt.xlabel(\"Free Delivery over: \\n Rs. 3000: -1                      Rs. 5000: 1\")\n",
        "plt.xticks([-1,1])\n",
        "plt.ylabel(\"Average Sales\")\n",
        "plt.yticks([350000,361000,312000,250500])\n",
        "plt.title(\"Average Sales vs A\")\n",
        "plt.sca(ax[1]); #Setting current axes to 1 (for the right subplot)\n",
        "plt.plot([-1,1],[350000,312000])\n",
        "plt.plot([-1,1],[361000,250500])\n",
        "plt.legend([\"Free Shipping over 3000\", \"Free Shipping over 5000\"])\n",
        "plt.xlabel(\"Requirement of creating a profile: \\n No: -1                               Yes: 1\")\n",
        "plt.xticks([-1,1])\n",
        "plt.ylabel(\"Average Sales\")\n",
        "plt.yticks([350000,361000,312000,250500])\n",
        "plt.title(\"Average Sales vs B\")\n",
        "plt.show()"
      ],
      "execution_count": null,
      "outputs": [
        {
          "output_type": "display_data",
          "data": {
            "image/png": "[encoded data removed]",
            "text/plain": [
              "<Figure size 1440x360 with 2 Axes>"
            ]
          },
          "metadata": {
            "tags": [],
            "needs_background": "light"
          }
        }
      ]
    },
    {
      "cell_type": "markdown",
      "metadata": {
        "id": "cWZvSa3kuZL5"
      },
      "source": [
        "**Part (e)** - Least Square Model"
      ]
    },
    {
      "cell_type": "code",
      "metadata": {
        "id": "hxACwHdRix3A",
        "outputId": "4aced804-5f6f-4303-d945-2406363d10dd",
        "colab": {
          "base_uri": "https://localhost:8080/"
        }
      },
      "source": [
        "mat_A4  = np.matrix([\n",
        "                    [1,-1,-1, 1],\n",
        "                    [1, 1,-1,-1],\n",
        "                    [1,-1, 1,-1],\n",
        "                    [1, 1, 1, 1]\n",
        "                    ])\n",
        "mat_b4 = np.matrix([[350000], [361000], [312000], [250500]])\n",
        "c_val = (linalg.inv(mat_A4)*mat_b4).flatten().tolist()[0] # using inverse_A*B and flattening the resultant matrix to a 1D list\n",
        "print(\"Main effects: \\n A: {}  B: {} \\n\\nInteractions: \\n A*B: {} \".format(c_val[1], c_val[2], c_val[3]))\n",
        "\n",
        "print(\"\\nLinear Model:\\n Y = {}  +  {}*XA  + {}*XB  +  {}*XA*XB\".format(c_val[0], c_val[1], c_val[2], c_val[3]))"
      ],
      "execution_count": null,
      "outputs": [
        {
          "output_type": "stream",
          "text": [
            "Main effects: \n",
            " A: -12625.0  B: -37125.0 \n",
            "\n",
            "Interactions: \n",
            " A*B: -18125.0 \n",
            "\n",
            "Linear Model:\n",
            " Y = 318375.0  +  -12625.0*XA  + -37125.0*XB  +  -18125.0*XA*XB\n"
          ],
          "name": "stdout"
        }
      ]
    },
    {
      "cell_type": "markdown",
      "metadata": {
        "id": "nogjWYxik2fO"
      },
      "source": [
        "#**Quesion 5**"
      ]
    },
    {
      "cell_type": "markdown",
      "metadata": {
        "id": "-IIT9J2q979t"
      },
      "source": [
        "**Part (a) and Part (b)**"
      ]
    },
    {
      "cell_type": "markdown",
      "metadata": {
        "id": "pHWkRGY88Jq_"
      },
      "source": [
        "Using the Least Squares Method, we can directly estimate the Main effects and the interactions"
      ]
    },
    {
      "cell_type": "code",
      "metadata": {
        "id": "tE5hblSuk2AL",
        "outputId": "933198ee-3979-4996-be77-12b3f045a3e5",
        "colab": {
          "base_uri": "https://localhost:8080/"
        }
      },
      "source": [
        "mat_A  = np.matrix([\n",
        "                    [1,-1,-1,-1, 1, 1, 1,-1],\n",
        "                    [1, 1,-1,-1,-1, 1,-1, 1],\n",
        "                    [1,-1, 1,-1,-1,-1, 1, 1],\n",
        "                    [1, 1, 1,-1, 1,-1,-1,-1],\n",
        "                    [1,-1,-1, 1, 1,-1,-1, 1],\n",
        "                    [1, 1,-1, 1,-1,-1, 1,-1],\n",
        "                    [1,-1, 1, 1,-1, 1,-1,-1],\n",
        "                    [1, 1, 1, 1, 1, 1, 1, 1]\n",
        "                    ])\n",
        "mat_b = np.matrix([[72], [73], [66], [87], [70], [73], [67], [87]])\n",
        "\n",
        "coeff = linalg.inv(mat_A)*mat_b\n",
        "coeff = coeff.flatten().tolist()[0]\n",
        "\n",
        "print(\"Main effects: \\nA: {}\\nB: {}\\nC: {} \\n\\nInteractions: \\nA*B: {}\\nB*C: {}\\nA*C: {}\\nA*B*C: {}\\n\\n\".format(coeff[1], coeff[2], coeff[3],\n",
        "                                                                                                                coeff[4], coeff[5], coeff[5],\n",
        "                                                                                                                coeff[7]))\n",
        "\n",
        "print(\"Linear Model:\\nY = {} + {}*XA + {}*XB + {}*XC + {}*XA*XB + {}*XB*XC + {}*XA*XC + {}*XA*XB*XC\".format(coeff[0], coeff[1], coeff[2],\n",
        "                                                                                                                coeff[3], coeff[4], coeff[5],\n",
        "                                                                                                                coeff[6], coeff[7]))"
      ],
      "execution_count": null,
      "outputs": [
        {
          "output_type": "stream",
          "text": [
            "Main effects: \n",
            "A: 5.625\n",
            "B: 2.375\n",
            "C: -0.125 \n",
            "\n",
            "Interactions: \n",
            "A*B: 4.625\n",
            "B*C: 0.375\n",
            "A*C: 0.375\n",
            "A*B*C: -0.375\n",
            "\n",
            "\n",
            "Linear Model:\n",
            "Y = 74.375 + 5.625*XA + 2.375*XB + -0.125*XC + 4.625*XA*XB + 0.375*XB*XC + 0.125*XA*XC + -0.375*XA*XB*XC\n"
          ],
          "name": "stdout"
        }
      ]
    },
    {
      "cell_type": "code",
      "metadata": {
        "id": "JPNzVFBv5bI-",
        "outputId": "e1fddb2e-ed9c-4958-a9b7-4076490f8135",
        "colab": {
          "base_uri": "https://localhost:8080/",
          "height": 645
        }
      },
      "source": [
        "xval = np.array(coeff)\n",
        "xval_ab = np.abs(xval[1:])\n",
        "y_val = ['A', 'B', 'C', 'A:B', 'B:C', 'A:C', 'A:B:C']\n",
        "\n",
        "data = pd.DataFrame(list(zip(xval_ab, y_val)), columns=['Magnitude of effects', 'Effects'])\n",
        "data.sort_values(by='Magnitude of effects', inplace=True, ascending=False)\n",
        "\n",
        "fig,ax = plt.subplots(figsize=[15,10])\n",
        "sns.barplot(x=data['Magnitude of effects'], y=data['Effects'], ax=ax)\n",
        "ax.set_title('Pareto Plot', fontsize=20)\n",
        "ax.axvline(0.375, ymax=0.557, color='k', linestyle='--')"
      ],
      "execution_count": null,
      "outputs": [
        {
          "output_type": "execute_result",
          "data": {
            "text/plain": [
              "<matplotlib.lines.Line2D at 0x7fbd2953ce80>"
            ]
          },
          "metadata": {
            "tags": []
          },
          "execution_count": 107
        },
        {
          "output_type": "display_data",
          "data": {
            "image/png": "[encoded data removed]",
            "text/plain": [
              "<Figure size 1080x720 with 1 Axes>"
            ]
          },
          "metadata": {
            "tags": [],
            "needs_background": "light"
          }
        }
      ]
    },
    {
      "cell_type": "markdown",
      "metadata": {
        "id": "z_5hP3uu-DhB"
      },
      "source": [
        "The pareto plot was not scaled by dividing with average because the values are still comparable. As we can see, the main effect of C is negligible as compared to A and B, and even less than the interaction of A and B. The A:B interaction comes out to be even stronger than the B's main effect.\n",
        "\n",
        "By taking into account the above plot, and considering the threshold at 0.375. The relationship and hence the linear model will be modified to the given form"
      ]
    },
    {
      "cell_type": "code",
      "metadata": {
        "id": "tSDlnWM--p7l",
        "outputId": "74617201-259e-4a1f-8c3e-8b8212b40218",
        "colab": {
          "base_uri": "https://localhost:8080/"
        }
      },
      "source": [
        "vals = data[\"Magnitude of effects\"].values.tolist()\n",
        "print(\"Linear Model:\\nY = {} + {}*XA + {}*XB + {}*XA*XB\".format(coeff[0], vals[0], vals[2], vals[1]))"
      ],
      "execution_count": null,
      "outputs": [
        {
          "output_type": "stream",
          "text": [
            "Linear Model:\n",
            "Y = 74.375 + 5.625*XA + 2.375*XB + 4.625*XA*XB\n"
          ],
          "name": "stdout"
        }
      ]
    },
    {
      "cell_type": "markdown",
      "metadata": {
        "id": "kMXKiR86k6Jz"
      },
      "source": [
        "#**Question 6**"
      ]
    },
    {
      "cell_type": "code",
      "metadata": {
        "id": "3no1k7T0k5XZ",
        "outputId": "57cdb779-7c18-4ad3-c678-541c35d7fdc7",
        "colab": {
          "base_uri": "https://localhost:8080/",
          "height": 206
        }
      },
      "source": [
        "food_tex = pd.read_csv('/content/food-texture.csv', index_col=None)\n",
        "food_tex.head()"
      ],
      "execution_count": 21,
      "outputs": [
        {
          "output_type": "execute_result",
          "data": {
            "text/html": [
              "<div>\n",
              "<style scoped>\n",
              "    .dataframe tbody tr th:only-of-type {\n",
              "        vertical-align: middle;\n",
              "    }\n",
              "\n",
              "    .dataframe tbody tr th {\n",
              "        vertical-align: top;\n",
              "    }\n",
              "\n",
              "    .dataframe thead th {\n",
              "        text-align: right;\n",
              "    }\n",
              "</style>\n",
              "<table border=\"1\" class=\"dataframe\">\n",
              "  <thead>\n",
              "    <tr style=\"text-align: right;\">\n",
              "      <th></th>\n",
              "      <th>Unnamed: 0</th>\n",
              "      <th>Oil</th>\n",
              "      <th>Density</th>\n",
              "      <th>Crispy</th>\n",
              "      <th>Fracture</th>\n",
              "      <th>Hardness</th>\n",
              "    </tr>\n",
              "  </thead>\n",
              "  <tbody>\n",
              "    <tr>\n",
              "      <th>0</th>\n",
              "      <td>B110</td>\n",
              "      <td>16.5</td>\n",
              "      <td>2955</td>\n",
              "      <td>10</td>\n",
              "      <td>23</td>\n",
              "      <td>97</td>\n",
              "    </tr>\n",
              "    <tr>\n",
              "      <th>1</th>\n",
              "      <td>B136</td>\n",
              "      <td>17.7</td>\n",
              "      <td>2660</td>\n",
              "      <td>14</td>\n",
              "      <td>9</td>\n",
              "      <td>139</td>\n",
              "    </tr>\n",
              "    <tr>\n",
              "      <th>2</th>\n",
              "      <td>B171</td>\n",
              "      <td>16.2</td>\n",
              "      <td>2870</td>\n",
              "      <td>12</td>\n",
              "      <td>17</td>\n",
              "      <td>143</td>\n",
              "    </tr>\n",
              "    <tr>\n",
              "      <th>3</th>\n",
              "      <td>B192</td>\n",
              "      <td>16.7</td>\n",
              "      <td>2920</td>\n",
              "      <td>10</td>\n",
              "      <td>31</td>\n",
              "      <td>95</td>\n",
              "    </tr>\n",
              "    <tr>\n",
              "      <th>4</th>\n",
              "      <td>B225</td>\n",
              "      <td>16.3</td>\n",
              "      <td>2975</td>\n",
              "      <td>11</td>\n",
              "      <td>26</td>\n",
              "      <td>143</td>\n",
              "    </tr>\n",
              "  </tbody>\n",
              "</table>\n",
              "</div>"
            ],
            "text/plain": [
              "  Unnamed: 0   Oil  Density  Crispy  Fracture  Hardness\n",
              "0       B110  16.5     2955      10        23        97\n",
              "1       B136  17.7     2660      14         9       139\n",
              "2       B171  16.2     2870      12        17       143\n",
              "3       B192  16.7     2920      10        31        95\n",
              "4       B225  16.3     2975      11        26       143"
            ]
          },
          "metadata": {
            "tags": []
          },
          "execution_count": 21
        }
      ]
    },
    {
      "cell_type": "code",
      "metadata": {
        "id": "hRyNJK3CwjWd",
        "outputId": "4bf7cfcc-4192-4759-c6e6-1ad50a135ff6",
        "colab": {
          "base_uri": "https://localhost:8080/",
          "height": 206
        }
      },
      "source": [
        "features = ['Oil','Density','Crispy','Fracture','Hardness'] # Variable Names\n",
        "x = food_tex.loc[:, features].values\n",
        "x = StandardScaler().fit_transform(x) # Scaling the values (Standard Normalization)\n",
        "\n",
        "pca = PCA(n_components=5) # Number of components to decompose into\n",
        "pc = pca.fit_transform(x) # Fitting a PCA model to the values \n",
        "\n",
        "principalDf = pd.DataFrame(data = pc, columns=['PC1', 'PC2', 'PC3', 'PC4', 'PC5'])\n",
        "principalDf.head() # Transformed principal components (first 5 values)"
      ],
      "execution_count": 22,
      "outputs": [
        {
          "output_type": "execute_result",
          "data": {
            "text/html": [
              "<div>\n",
              "<style scoped>\n",
              "    .dataframe tbody tr th:only-of-type {\n",
              "        vertical-align: middle;\n",
              "    }\n",
              "\n",
              "    .dataframe tbody tr th {\n",
              "        vertical-align: top;\n",
              "    }\n",
              "\n",
              "    .dataframe thead th {\n",
              "        text-align: right;\n",
              "    }\n",
              "</style>\n",
              "<table border=\"1\" class=\"dataframe\">\n",
              "  <thead>\n",
              "    <tr style=\"text-align: right;\">\n",
              "      <th></th>\n",
              "      <th>PC1</th>\n",
              "      <th>PC2</th>\n",
              "      <th>PC3</th>\n",
              "      <th>PC4</th>\n",
              "      <th>PC5</th>\n",
              "    </tr>\n",
              "  </thead>\n",
              "  <tbody>\n",
              "    <tr>\n",
              "      <th>0</th>\n",
              "      <td>1.397254</td>\n",
              "      <td>0.625695</td>\n",
              "      <td>0.406598</td>\n",
              "      <td>-0.491750</td>\n",
              "      <td>0.006009</td>\n",
              "    </tr>\n",
              "    <tr>\n",
              "      <th>1</th>\n",
              "      <td>-2.822848</td>\n",
              "      <td>-0.357316</td>\n",
              "      <td>1.086951</td>\n",
              "      <td>0.258398</td>\n",
              "      <td>0.493736</td>\n",
              "    </tr>\n",
              "    <tr>\n",
              "      <th>2</th>\n",
              "      <td>-0.239968</td>\n",
              "      <td>-0.870204</td>\n",
              "      <td>0.617757</td>\n",
              "      <td>0.029822</td>\n",
              "      <td>0.178113</td>\n",
              "    </tr>\n",
              "    <tr>\n",
              "      <th>3</th>\n",
              "      <td>1.959030</td>\n",
              "      <td>1.153328</td>\n",
              "      <td>-0.442393</td>\n",
              "      <td>0.315704</td>\n",
              "      <td>-0.559647</td>\n",
              "    </tr>\n",
              "    <tr>\n",
              "      <th>4</th>\n",
              "      <td>1.280810</td>\n",
              "      <td>-0.670200</td>\n",
              "      <td>-0.441604</td>\n",
              "      <td>0.072634</td>\n",
              "      <td>-0.407546</td>\n",
              "    </tr>\n",
              "  </tbody>\n",
              "</table>\n",
              "</div>"
            ],
            "text/plain": [
              "        PC1       PC2       PC3       PC4       PC5\n",
              "0  1.397254  0.625695  0.406598 -0.491750  0.006009\n",
              "1 -2.822848 -0.357316  1.086951  0.258398  0.493736\n",
              "2 -0.239968 -0.870204  0.617757  0.029822  0.178113\n",
              "3  1.959030  1.153328 -0.442393  0.315704 -0.559647\n",
              "4  1.280810 -0.670200 -0.441604  0.072634 -0.407546"
            ]
          },
          "metadata": {
            "tags": []
          },
          "execution_count": 22
        }
      ]
    },
    {
      "cell_type": "code",
      "metadata": {
        "id": "QhPA6Zz3xE5T",
        "outputId": "14a79a5a-a3e8-4353-ebca-464c71fef353",
        "colab": {
          "base_uri": "https://localhost:8080/"
        }
      },
      "source": [
        "print(\"Percentage of Variance explained by:\\n\")\n",
        "for i in range(5):\n",
        "  print(\"PC{} : {}\\n\".format(i+1, pca.explained_variance_ratio_[i]))"
      ],
      "execution_count": 23,
      "outputs": [
        {
          "output_type": "stream",
          "text": [
            "Percentage of Variance explained by:\n",
            "\n",
            "PC1 : 0.6062426334584962\n",
            "\n",
            "PC2 : 0.2591411527599621\n",
            "\n",
            "PC3 : 0.062009868337747555\n",
            "\n",
            "PC4 : 0.048384016320340034\n",
            "\n",
            "PC5 : 0.02422232912345399\n",
            "\n"
          ],
          "name": "stdout"
        }
      ]
    },
    {
      "cell_type": "code",
      "metadata": {
        "id": "1-YtUgAcxPZl",
        "outputId": "596b982b-ea63-43fe-80fa-fd38e4cad2d5",
        "colab": {
          "base_uri": "https://localhost:8080/"
        }
      },
      "source": [
        "print(\"PC1 and PC2 together explain {} % of variance\".format((pca.explained_variance_ratio_[0] + pca.explained_variance_ratio_[1])*100))"
      ],
      "execution_count": 24,
      "outputs": [
        {
          "output_type": "stream",
          "text": [
            "PC1 and PC2 together explain 86.53837862184582 % of variance\n"
          ],
          "name": "stdout"
        }
      ]
    },
    {
      "cell_type": "code",
      "metadata": {
        "id": "-f0WpFdcCN__",
        "outputId": "a4a33a4e-d38a-4182-d09e-a4b0c1b5104f",
        "colab": {
          "base_uri": "https://localhost:8080/"
        }
      },
      "source": [
        "#Gives the 2nd norm of the principal components, gives the estimates of the PCs\n",
        "print(\"The second norm of the principal components:\\n\")\n",
        "for i in range(5):\n",
        "  print(\"PC{} : {}\\n\".format(i+1, pca.singular_values_[i]))"
      ],
      "execution_count": 25,
      "outputs": [
        {
          "output_type": "stream",
          "text": [
            "The second norm of the principal components:\n",
            "\n",
            "PC1 : 12.310997456121255\n",
            "\n",
            "PC2 : 8.048930872481792\n",
            "\n",
            "PC3 : 3.9373172445761697\n",
            "\n",
            "PC4 : 3.4779310056533617\n",
            "\n",
            "PC5 : 2.4608092735649985\n",
            "\n"
          ],
          "name": "stdout"
        }
      ]
    },
    {
      "cell_type": "code",
      "metadata": {
        "id": "QbJ4O_nRBjUS",
        "outputId": "e6d8e641-c820-413c-e13e-21495b24a218",
        "colab": {
          "base_uri": "https://localhost:8080/"
        }
      },
      "source": [
        "cor_val = food_tex[features].corr()\n",
        "w, v = linalg.eig(cor_val)\n",
        "print(\"Eigen Values\\n\", w)\n",
        "print(\"\\n\")\n",
        "print(\"Eigen Vector\\n\", v)"
      ],
      "execution_count": 26,
      "outputs": [
        {
          "output_type": "stream",
          "text": [
            "Eigen Values\n",
            " [3.03121317 1.29570576 0.31004934 0.24192008 0.12111165]\n",
            "\n",
            "\n",
            "Eigen Vector\n",
            " [[-0.45753343  0.37043885 -0.6590302   0.46794489 -0.01204121]\n",
            " [ 0.4787455  -0.35674997 -0.01623973  0.71846318 -0.35648161]\n",
            " [-0.53238767 -0.19766103  0.17888443 -0.13252692 -0.79242064]\n",
            " [ 0.50447688  0.22123992 -0.54227938 -0.45693168 -0.44011646]\n",
            " [-0.15340262 -0.8046661  -0.48923298 -0.19618432  0.22614798]]\n"
          ],
          "name": "stdout"
        }
      ]
    },
    {
      "cell_type": "code",
      "metadata": {
        "id": "8HQy2labBupS",
        "outputId": "5bbf9e1a-ac19-48dc-b623-4d39ebef1460",
        "colab": {
          "base_uri": "https://localhost:8080/"
        }
      },
      "source": [
        "# In terms of the input features\n",
        "print(\"PC1 = {}*X1 + {}*X2 + {}*X3 + {}*X4 + {}*X5\".format(v[0][0],v[1][0],v[2][0],v[3][0],v[4][0]))\n",
        "print(\"PC2 = {}*X1 + {}*X2 + {}*X3 + {}*X4 + {}*X5\".format(v[0][1],v[1][1],v[2][1],v[3][1],v[4][1]))"
      ],
      "execution_count": 27,
      "outputs": [
        {
          "output_type": "stream",
          "text": [
            "PC1 = -0.45753342980017714*X1 + 0.47874549819235396*X2 + -0.5323876656156658*X3 + 0.5044768772111712*X4 + -0.15340261547772968*X5\n",
            "PC2 = 0.3704388527281684*X1 + -0.35674996728774866*X2 + -0.1976610269438442*X3 + 0.22123991685699063*X4 + -0.8046661014646047*X5\n"
          ],
          "name": "stdout"
        }
      ]
    }
  ]
}